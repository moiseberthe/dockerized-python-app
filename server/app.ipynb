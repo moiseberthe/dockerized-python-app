{
 "cells": [
  {
   "cell_type": "code",
   "execution_count": 35,
   "metadata": {},
   "outputs": [],
   "source": [
    "from fastapi import FastAPI\n",
    "from pymongo import MongoClient\n",
    "from bson.objectid import ObjectId"
   ]
  },
  {
   "cell_type": "code",
   "execution_count": 2,
   "metadata": {},
   "outputs": [],
   "source": [
    "app = FastAPI()\n",
    "client = MongoClient(\"localhost\", 27017)"
   ]
  },
  {
   "cell_type": "code",
   "execution_count": 5,
   "metadata": {},
   "outputs": [],
   "source": [
    "db = client.test_database\n",
    "collection = db.test_collection"
   ]
  },
  {
   "cell_type": "code",
   "execution_count": 25,
   "metadata": {},
   "outputs": [
    {
     "data": {
      "text/plain": [
       "'6560b3a899ad747e0747e2a0'"
      ]
     },
     "execution_count": 25,
     "metadata": {},
     "output_type": "execute_result"
    }
   ],
   "source": [
    "str(collection.insert_one({\"fruit\": ['fruit', 'test'], 'fruit2': [1,2,3]}).inserted_id)"
   ]
  },
  {
   "cell_type": "code",
   "execution_count": 36,
   "metadata": {},
   "outputs": [
    {
     "data": {
      "text/plain": [
       "DeleteResult({'n': 1, 'ok': 1.0}, acknowledged=True)"
      ]
     },
     "execution_count": 36,
     "metadata": {},
     "output_type": "execute_result"
    }
   ],
   "source": [
    "collection.delete_one({\"_id\": ObjectId('6560b23b99ad747e0747e29b')})\n",
    "collection.delete_one({\"_id\": ObjectId('6560b29c99ad747e0747e29c')})\n",
    "collection.delete_one({\"_id\": ObjectId('6560b2b799ad747e0747e29d')})\n",
    "collection.delete_one({\"_id\": ObjectId('6560b2da99ad747e0747e29e')})\n",
    "collection.delete_one({\"_id\": ObjectId('6560b39c99ad747e0747e29f')})\n",
    "collection.delete_one({\"_id\": ObjectId('6560b3a899ad747e0747e2a0')})"
   ]
  },
  {
   "cell_type": "code",
   "execution_count": 37,
   "metadata": {},
   "outputs": [
    {
     "data": {
      "text/plain": [
       "[]"
      ]
     },
     "execution_count": 37,
     "metadata": {},
     "output_type": "execute_result"
    }
   ],
   "source": [
    "list(collection.find())"
   ]
  },
  {
   "cell_type": "code",
   "execution_count": 19,
   "metadata": {},
   "outputs": [
    {
     "name": "stdout",
     "output_type": "stream",
     "text": [
      "{'fruit': 'fruit'}\n",
      "{'fruit': 'fruit'}\n",
      "{'fruit': ['fruit', 'test']}\n",
      "{'fruit': ['fruit', 'test'], 'fruit2': [1, 2, 3]}\n"
     ]
    }
   ],
   "source": [
    "for i in collection.find({}, {\"_id\":False}):\n",
    "    print(i)"
   ]
  },
  {
   "cell_type": "code",
   "execution_count": 15,
   "metadata": {},
   "outputs": [],
   "source": [
    "@app.get(\"/\")\n",
    "async def root():\n",
    "    return {\"message\": \"Hello World\"}"
   ]
  },
  {
   "cell_type": "code",
   "execution_count": 16,
   "metadata": {},
   "outputs": [],
   "source": [
    "@app.get(\"/add/mango\")\n",
    "async def get_fruits():\n",
    "    return {\"fruit\": \"Hello World\"}"
   ]
  },
  {
   "cell_type": "code",
   "execution_count": 17,
   "metadata": {},
   "outputs": [],
   "source": [
    "@app.get(\"/list\")\n",
    "async def root():\n",
    "    return {\"list\": [\"Hello World\", 123, 333]}"
   ]
  }
 ],
 "metadata": {
  "kernelspec": {
   "display_name": ".venv",
   "language": "python",
   "name": "python3"
  },
  "language_info": {
   "codemirror_mode": {
    "name": "ipython",
    "version": 3
   },
   "file_extension": ".py",
   "mimetype": "text/x-python",
   "name": "python",
   "nbconvert_exporter": "python",
   "pygments_lexer": "ipython3",
   "version": "3.11.4"
  },
  "orig_nbformat": 4
 },
 "nbformat": 4,
 "nbformat_minor": 2
}
